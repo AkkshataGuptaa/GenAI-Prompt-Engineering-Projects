{
  "nbformat": 4,
  "nbformat_minor": 0,
  "metadata": {
    "colab": {
      "provenance": [],
      "toc_visible": true
    },
    "kernelspec": {
      "name": "python3",
      "display_name": "Python 3"
    },
    "language_info": {
      "name": "python"
    }
  },
  "cells": [
    {
      "cell_type": "code",
      "source": [
        "# importing essential libraries\n",
        "from google.colab import drive\n",
        "!pip install openai\n",
        "import openai\n",
        "import json\n",
        "!pip install tenacity\n",
        "from tenacity import retry, wait_random_exponential, stop_after_attempt\n",
        "# Installing and importing Wiki api\n",
        "!pip install -q -U wikipedia-api\n",
        "!pip3 install wikipedia-api\n",
        "import wikipediaapi"
      ],
      "metadata": {
        "id": "WQdTNvCF215o",
        "colab": {
          "base_uri": "https://localhost:8080/"
        },
        "outputId": "18134dda-f0fe-44b9-be5e-0a4119f7c3b2"
      },
      "execution_count": null,
      "outputs": [
        {
          "output_type": "stream",
          "name": "stdout",
          "text": [
            "Requirement already satisfied: openai in /usr/local/lib/python3.10/dist-packages (1.35.13)\n",
            "Requirement already satisfied: anyio<5,>=3.5.0 in /usr/local/lib/python3.10/dist-packages (from openai) (3.7.1)\n",
            "Requirement already satisfied: distro<2,>=1.7.0 in /usr/lib/python3/dist-packages (from openai) (1.7.0)\n",
            "Requirement already satisfied: httpx<1,>=0.23.0 in /usr/local/lib/python3.10/dist-packages (from openai) (0.27.0)\n",
            "Requirement already satisfied: pydantic<3,>=1.9.0 in /usr/local/lib/python3.10/dist-packages (from openai) (2.8.2)\n",
            "Requirement already satisfied: sniffio in /usr/local/lib/python3.10/dist-packages (from openai) (1.3.1)\n",
            "Requirement already satisfied: tqdm>4 in /usr/local/lib/python3.10/dist-packages (from openai) (4.66.4)\n",
            "Requirement already satisfied: typing-extensions<5,>=4.7 in /usr/local/lib/python3.10/dist-packages (from openai) (4.12.2)\n",
            "Requirement already satisfied: idna>=2.8 in /usr/local/lib/python3.10/dist-packages (from anyio<5,>=3.5.0->openai) (3.7)\n",
            "Requirement already satisfied: exceptiongroup in /usr/local/lib/python3.10/dist-packages (from anyio<5,>=3.5.0->openai) (1.2.1)\n",
            "Requirement already satisfied: certifi in /usr/local/lib/python3.10/dist-packages (from httpx<1,>=0.23.0->openai) (2024.7.4)\n",
            "Requirement already satisfied: httpcore==1.* in /usr/local/lib/python3.10/dist-packages (from httpx<1,>=0.23.0->openai) (1.0.5)\n",
            "Requirement already satisfied: h11<0.15,>=0.13 in /usr/local/lib/python3.10/dist-packages (from httpcore==1.*->httpx<1,>=0.23.0->openai) (0.14.0)\n",
            "Requirement already satisfied: annotated-types>=0.4.0 in /usr/local/lib/python3.10/dist-packages (from pydantic<3,>=1.9.0->openai) (0.7.0)\n",
            "Requirement already satisfied: pydantic-core==2.20.1 in /usr/local/lib/python3.10/dist-packages (from pydantic<3,>=1.9.0->openai) (2.20.1)\n",
            "Requirement already satisfied: tenacity in /usr/local/lib/python3.10/dist-packages (8.5.0)\n",
            "Requirement already satisfied: wikipedia-api in /usr/local/lib/python3.10/dist-packages (0.6.0)\n",
            "Requirement already satisfied: requests in /usr/local/lib/python3.10/dist-packages (from wikipedia-api) (2.31.0)\n",
            "Requirement already satisfied: charset-normalizer<4,>=2 in /usr/local/lib/python3.10/dist-packages (from requests->wikipedia-api) (3.3.2)\n",
            "Requirement already satisfied: idna<4,>=2.5 in /usr/local/lib/python3.10/dist-packages (from requests->wikipedia-api) (3.7)\n",
            "Requirement already satisfied: urllib3<3,>=1.21.1 in /usr/local/lib/python3.10/dist-packages (from requests->wikipedia-api) (2.0.7)\n",
            "Requirement already satisfied: certifi>=2017.4.17 in /usr/local/lib/python3.10/dist-packages (from requests->wikipedia-api) (2024.7.4)\n"
          ]
        }
      ]
    },
    {
      "cell_type": "markdown",
      "source": [
        "# ***Using ChatGPT through API***"
      ],
      "metadata": {
        "id": "9UoCAzS37PB5"
      }
    },
    {
      "cell_type": "markdown",
      "source": [
        "## ***Installing and importing OpenAI***"
      ],
      "metadata": {
        "id": "dpa3WdKI_2fN"
      }
    },
    {
      "cell_type": "code",
      "execution_count": null,
      "metadata": {
        "colab": {
          "base_uri": "https://localhost:8080/"
        },
        "id": "D7hzDnsEsR2V",
        "outputId": "92db95d8-8150-40aa-e45e-d025676862d9"
      },
      "outputs": [
        {
          "output_type": "stream",
          "name": "stdout",
          "text": [
            "Requirement already satisfied: openai in /usr/local/lib/python3.10/dist-packages (1.35.13)\n",
            "Requirement already satisfied: anyio<5,>=3.5.0 in /usr/local/lib/python3.10/dist-packages (from openai) (3.7.1)\n",
            "Requirement already satisfied: distro<2,>=1.7.0 in /usr/lib/python3/dist-packages (from openai) (1.7.0)\n",
            "Requirement already satisfied: httpx<1,>=0.23.0 in /usr/local/lib/python3.10/dist-packages (from openai) (0.27.0)\n",
            "Requirement already satisfied: pydantic<3,>=1.9.0 in /usr/local/lib/python3.10/dist-packages (from openai) (2.8.2)\n",
            "Requirement already satisfied: sniffio in /usr/local/lib/python3.10/dist-packages (from openai) (1.3.1)\n",
            "Requirement already satisfied: tqdm>4 in /usr/local/lib/python3.10/dist-packages (from openai) (4.66.4)\n",
            "Requirement already satisfied: typing-extensions<5,>=4.7 in /usr/local/lib/python3.10/dist-packages (from openai) (4.12.2)\n",
            "Requirement already satisfied: idna>=2.8 in /usr/local/lib/python3.10/dist-packages (from anyio<5,>=3.5.0->openai) (3.7)\n",
            "Requirement already satisfied: exceptiongroup in /usr/local/lib/python3.10/dist-packages (from anyio<5,>=3.5.0->openai) (1.2.1)\n",
            "Requirement already satisfied: certifi in /usr/local/lib/python3.10/dist-packages (from httpx<1,>=0.23.0->openai) (2024.7.4)\n",
            "Requirement already satisfied: httpcore==1.* in /usr/local/lib/python3.10/dist-packages (from httpx<1,>=0.23.0->openai) (1.0.5)\n",
            "Requirement already satisfied: h11<0.15,>=0.13 in /usr/local/lib/python3.10/dist-packages (from httpcore==1.*->httpx<1,>=0.23.0->openai) (0.14.0)\n",
            "Requirement already satisfied: annotated-types>=0.4.0 in /usr/local/lib/python3.10/dist-packages (from pydantic<3,>=1.9.0->openai) (0.7.0)\n",
            "Requirement already satisfied: pydantic-core==2.20.1 in /usr/local/lib/python3.10/dist-packages (from pydantic<3,>=1.9.0->openai) (2.20.1)\n"
          ]
        }
      ],
      "source": [
        "#Install OpenAI\n",
        "\n",
        "!pip install openai"
      ]
    },
    {
      "cell_type": "markdown",
      "source": [
        "## ***Mounting Google Drive in Collab***"
      ],
      "metadata": {
        "id": "MbXddeTr_9c_"
      }
    },
    {
      "cell_type": "code",
      "source": [
        "#Get content from google drive to google collab - MOUNT Google drive\n",
        "from google.colab import drive\n",
        "drive.mount('/content/drive', force_remount = True)   #content/drive is the default location for google drive & force remount helps remount any new file uploaded to the drive"
      ],
      "metadata": {
        "colab": {
          "base_uri": "https://localhost:8080/"
        },
        "id": "dFpWlC5s2UVB",
        "outputId": "199967d0-cb8e-40cf-d091-ef513b25f616"
      },
      "execution_count": null,
      "outputs": [
        {
          "output_type": "stream",
          "name": "stdout",
          "text": [
            "Mounted at /content/drive\n"
          ]
        }
      ]
    },
    {
      "cell_type": "code",
      "source": [
        "#Updates the file path to GenAI folder in Google Drive\n",
        "filepath = \"/content/drive/MyDrive/GenAI/\"   # Check the drive structure from 'Files' in google collab after mounting"
      ],
      "metadata": {
        "id": "jbOpb1Kv3S7g"
      },
      "execution_count": null,
      "outputs": []
    },
    {
      "cell_type": "code",
      "source": [
        "# Check if drive got mounted or not - ls command shows all files present inside your directory\n",
        "!ls \"/content/drive/MyDrive/GenAI\""
      ],
      "metadata": {
        "colab": {
          "base_uri": "https://localhost:8080/"
        },
        "id": "KZZPG_Nr5B8p",
        "outputId": "15fbf0e8-5830-4295-af6d-188cc206a48e"
      },
      "execution_count": null,
      "outputs": [
        {
          "output_type": "stream",
          "name": "stdout",
          "text": [
            " AI_tutor_system_message_1.txt\t\t\t 'Investor Call Transcript - Q2FY23 Results.txt'\n",
            " AsianPaints.txt\t\t\t\t  laptop_descriptions.csv\n",
            " earnings-call-transcript-q4-fy23.pdf\t\t  tata_motors_transcript_sample.txt\n",
            "'Investor Call Transcript - Q2FY23 Results.pdf'   tata_transcript.txt\n"
          ]
        }
      ]
    },
    {
      "cell_type": "code",
      "source": [
        "# importing openai\n",
        "import openai"
      ],
      "metadata": {
        "id": "qe7BUb076T6N"
      },
      "execution_count": null,
      "outputs": []
    },
    {
      "cell_type": "markdown",
      "source": [
        "**Steps:**\n",
        "* Go to https://platform.openai.com/docs/overview\n",
        "* Your profile > Billing > Add account details and $5 to your account balance >\n",
        "* Dashboard > API Keys > Create New Secret Key > Add a Name > Save the key > Close"
      ],
      "metadata": {
        "id": "m41mUvmd7Pck"
      }
    },
    {
      "cell_type": "code",
      "source": [
        "# connecting to openai\n",
        "openai.api_key = \"############\"  #Hide key because it is chargeable\n",
        "\n",
        "# Option 2 - Can update secret key in key icon on google collab\n",
        "# Option 3 - Can place the key in google drive and read from there"
      ],
      "metadata": {
        "id": "3VKtzDd55Z2l"
      },
      "execution_count": null,
      "outputs": []
    },
    {
      "cell_type": "markdown",
      "source": [
        "# ***Tenacity to use Exponential Backoff to handle Rate Limit***"
      ],
      "metadata": {
        "id": "BxkyT09SM6wK"
      }
    },
    {
      "cell_type": "code",
      "source": [
        "!pip install tenacity"
      ],
      "metadata": {
        "colab": {
          "base_uri": "https://localhost:8080/"
        },
        "id": "w_bZmWAQM6Wq",
        "outputId": "ebd8dffc-4338-434f-a973-75cf0ffef12b"
      },
      "execution_count": null,
      "outputs": [
        {
          "output_type": "stream",
          "name": "stdout",
          "text": [
            "Requirement already satisfied: tenacity in /usr/local/lib/python3.10/dist-packages (8.5.0)\n"
          ]
        }
      ]
    },
    {
      "cell_type": "code",
      "source": [
        "# Best practice\n",
        "import openai\n",
        "from tenacity import retry, wait_random_exponential, stop_after_attempt\n",
        "\n",
        "# Retry up to 6 times with exponential backoff, starting at 1 second and maxing out at 20 seconds delay\n",
        "@retry(wait=wait_random_exponential(min=1, max=20), stop=stop_after_attempt(6))     # DECORATOR in Python\n",
        "def get_response(user_prompt):\n",
        "    MODEL = 'gpt-3.5-turbo-16k'\n",
        "\n",
        "    message = [{\"role\":\"user\",\"content\":user_prompt}]\n",
        "\n",
        "    chat_response = openai.chat.completions.create(\n",
        "        model = MODEL,\n",
        "        messages = message)\n",
        "\n",
        "    return chat_response.choices[0].message.content"
      ],
      "metadata": {
        "id": "lpZ5PRm9NArN"
      },
      "execution_count": null,
      "outputs": []
    },
    {
      "cell_type": "markdown",
      "source": [
        "# ***Prompt Engineering - \"Laptop Descriptions\" Case Study***"
      ],
      "metadata": {
        "id": "2rQtfRh-jOrD"
      }
    },
    {
      "cell_type": "code",
      "source": [
        "import pandas as pd\n",
        "import numpy as np\n",
        "df = pd.read_csv('laptop_descriptions.csv')\n",
        "df.head()"
      ],
      "metadata": {
        "colab": {
          "base_uri": "https://localhost:8080/",
          "height": 206
        },
        "id": "mOao9oi9NB6n",
        "outputId": "6fd33a12-5c46-414a-acdc-d59d8b234b9f"
      },
      "execution_count": null,
      "outputs": [
        {
          "output_type": "execute_result",
          "data": {
            "text/plain": [
              "                                  laptop_description\n",
              "0  The Dell Inspiron is a versatile laptop that c...\n",
              "1  The MSI GL65 is a high-performance laptop desi...\n",
              "2  The HP EliteBook is a premium laptop designed ...\n",
              "3  The Lenovo IdeaPad is a versatile laptop that ...\n",
              "4  The ASUS ZenBook Pro is a high-end laptop that..."
            ],
            "text/html": [
              "\n",
              "  <div id=\"df-f44e2e7a-3ef8-44b7-8d9d-489090e0c868\" class=\"colab-df-container\">\n",
              "    <div>\n",
              "<style scoped>\n",
              "    .dataframe tbody tr th:only-of-type {\n",
              "        vertical-align: middle;\n",
              "    }\n",
              "\n",
              "    .dataframe tbody tr th {\n",
              "        vertical-align: top;\n",
              "    }\n",
              "\n",
              "    .dataframe thead th {\n",
              "        text-align: right;\n",
              "    }\n",
              "</style>\n",
              "<table border=\"1\" class=\"dataframe\">\n",
              "  <thead>\n",
              "    <tr style=\"text-align: right;\">\n",
              "      <th></th>\n",
              "      <th>laptop_description</th>\n",
              "    </tr>\n",
              "  </thead>\n",
              "  <tbody>\n",
              "    <tr>\n",
              "      <th>0</th>\n",
              "      <td>The Dell Inspiron is a versatile laptop that c...</td>\n",
              "    </tr>\n",
              "    <tr>\n",
              "      <th>1</th>\n",
              "      <td>The MSI GL65 is a high-performance laptop desi...</td>\n",
              "    </tr>\n",
              "    <tr>\n",
              "      <th>2</th>\n",
              "      <td>The HP EliteBook is a premium laptop designed ...</td>\n",
              "    </tr>\n",
              "    <tr>\n",
              "      <th>3</th>\n",
              "      <td>The Lenovo IdeaPad is a versatile laptop that ...</td>\n",
              "    </tr>\n",
              "    <tr>\n",
              "      <th>4</th>\n",
              "      <td>The ASUS ZenBook Pro is a high-end laptop that...</td>\n",
              "    </tr>\n",
              "  </tbody>\n",
              "</table>\n",
              "</div>\n",
              "    <div class=\"colab-df-buttons\">\n",
              "\n",
              "  <div class=\"colab-df-container\">\n",
              "    <button class=\"colab-df-convert\" onclick=\"convertToInteractive('df-f44e2e7a-3ef8-44b7-8d9d-489090e0c868')\"\n",
              "            title=\"Convert this dataframe to an interactive table.\"\n",
              "            style=\"display:none;\">\n",
              "\n",
              "  <svg xmlns=\"http://www.w3.org/2000/svg\" height=\"24px\" viewBox=\"0 -960 960 960\">\n",
              "    <path d=\"M120-120v-720h720v720H120Zm60-500h600v-160H180v160Zm220 220h160v-160H400v160Zm0 220h160v-160H400v160ZM180-400h160v-160H180v160Zm440 0h160v-160H620v160ZM180-180h160v-160H180v160Zm440 0h160v-160H620v160Z\"/>\n",
              "  </svg>\n",
              "    </button>\n",
              "\n",
              "  <style>\n",
              "    .colab-df-container {\n",
              "      display:flex;\n",
              "      gap: 12px;\n",
              "    }\n",
              "\n",
              "    .colab-df-convert {\n",
              "      background-color: #E8F0FE;\n",
              "      border: none;\n",
              "      border-radius: 50%;\n",
              "      cursor: pointer;\n",
              "      display: none;\n",
              "      fill: #1967D2;\n",
              "      height: 32px;\n",
              "      padding: 0 0 0 0;\n",
              "      width: 32px;\n",
              "    }\n",
              "\n",
              "    .colab-df-convert:hover {\n",
              "      background-color: #E2EBFA;\n",
              "      box-shadow: 0px 1px 2px rgba(60, 64, 67, 0.3), 0px 1px 3px 1px rgba(60, 64, 67, 0.15);\n",
              "      fill: #174EA6;\n",
              "    }\n",
              "\n",
              "    .colab-df-buttons div {\n",
              "      margin-bottom: 4px;\n",
              "    }\n",
              "\n",
              "    [theme=dark] .colab-df-convert {\n",
              "      background-color: #3B4455;\n",
              "      fill: #D2E3FC;\n",
              "    }\n",
              "\n",
              "    [theme=dark] .colab-df-convert:hover {\n",
              "      background-color: #434B5C;\n",
              "      box-shadow: 0px 1px 3px 1px rgba(0, 0, 0, 0.15);\n",
              "      filter: drop-shadow(0px 1px 2px rgba(0, 0, 0, 0.3));\n",
              "      fill: #FFFFFF;\n",
              "    }\n",
              "  </style>\n",
              "\n",
              "    <script>\n",
              "      const buttonEl =\n",
              "        document.querySelector('#df-f44e2e7a-3ef8-44b7-8d9d-489090e0c868 button.colab-df-convert');\n",
              "      buttonEl.style.display =\n",
              "        google.colab.kernel.accessAllowed ? 'block' : 'none';\n",
              "\n",
              "      async function convertToInteractive(key) {\n",
              "        const element = document.querySelector('#df-f44e2e7a-3ef8-44b7-8d9d-489090e0c868');\n",
              "        const dataTable =\n",
              "          await google.colab.kernel.invokeFunction('convertToInteractive',\n",
              "                                                    [key], {});\n",
              "        if (!dataTable) return;\n",
              "\n",
              "        const docLinkHtml = 'Like what you see? Visit the ' +\n",
              "          '<a target=\"_blank\" href=https://colab.research.google.com/notebooks/data_table.ipynb>data table notebook</a>'\n",
              "          + ' to learn more about interactive tables.';\n",
              "        element.innerHTML = '';\n",
              "        dataTable['output_type'] = 'display_data';\n",
              "        await google.colab.output.renderOutput(dataTable, element);\n",
              "        const docLink = document.createElement('div');\n",
              "        docLink.innerHTML = docLinkHtml;\n",
              "        element.appendChild(docLink);\n",
              "      }\n",
              "    </script>\n",
              "  </div>\n",
              "\n",
              "\n",
              "<div id=\"df-a5bf37b8-ba06-46e7-bf72-e73ca23cb00a\">\n",
              "  <button class=\"colab-df-quickchart\" onclick=\"quickchart('df-a5bf37b8-ba06-46e7-bf72-e73ca23cb00a')\"\n",
              "            title=\"Suggest charts\"\n",
              "            style=\"display:none;\">\n",
              "\n",
              "<svg xmlns=\"http://www.w3.org/2000/svg\" height=\"24px\"viewBox=\"0 0 24 24\"\n",
              "     width=\"24px\">\n",
              "    <g>\n",
              "        <path d=\"M19 3H5c-1.1 0-2 .9-2 2v14c0 1.1.9 2 2 2h14c1.1 0 2-.9 2-2V5c0-1.1-.9-2-2-2zM9 17H7v-7h2v7zm4 0h-2V7h2v10zm4 0h-2v-4h2v4z\"/>\n",
              "    </g>\n",
              "</svg>\n",
              "  </button>\n",
              "\n",
              "<style>\n",
              "  .colab-df-quickchart {\n",
              "      --bg-color: #E8F0FE;\n",
              "      --fill-color: #1967D2;\n",
              "      --hover-bg-color: #E2EBFA;\n",
              "      --hover-fill-color: #174EA6;\n",
              "      --disabled-fill-color: #AAA;\n",
              "      --disabled-bg-color: #DDD;\n",
              "  }\n",
              "\n",
              "  [theme=dark] .colab-df-quickchart {\n",
              "      --bg-color: #3B4455;\n",
              "      --fill-color: #D2E3FC;\n",
              "      --hover-bg-color: #434B5C;\n",
              "      --hover-fill-color: #FFFFFF;\n",
              "      --disabled-bg-color: #3B4455;\n",
              "      --disabled-fill-color: #666;\n",
              "  }\n",
              "\n",
              "  .colab-df-quickchart {\n",
              "    background-color: var(--bg-color);\n",
              "    border: none;\n",
              "    border-radius: 50%;\n",
              "    cursor: pointer;\n",
              "    display: none;\n",
              "    fill: var(--fill-color);\n",
              "    height: 32px;\n",
              "    padding: 0;\n",
              "    width: 32px;\n",
              "  }\n",
              "\n",
              "  .colab-df-quickchart:hover {\n",
              "    background-color: var(--hover-bg-color);\n",
              "    box-shadow: 0 1px 2px rgba(60, 64, 67, 0.3), 0 1px 3px 1px rgba(60, 64, 67, 0.15);\n",
              "    fill: var(--button-hover-fill-color);\n",
              "  }\n",
              "\n",
              "  .colab-df-quickchart-complete:disabled,\n",
              "  .colab-df-quickchart-complete:disabled:hover {\n",
              "    background-color: var(--disabled-bg-color);\n",
              "    fill: var(--disabled-fill-color);\n",
              "    box-shadow: none;\n",
              "  }\n",
              "\n",
              "  .colab-df-spinner {\n",
              "    border: 2px solid var(--fill-color);\n",
              "    border-color: transparent;\n",
              "    border-bottom-color: var(--fill-color);\n",
              "    animation:\n",
              "      spin 1s steps(1) infinite;\n",
              "  }\n",
              "\n",
              "  @keyframes spin {\n",
              "    0% {\n",
              "      border-color: transparent;\n",
              "      border-bottom-color: var(--fill-color);\n",
              "      border-left-color: var(--fill-color);\n",
              "    }\n",
              "    20% {\n",
              "      border-color: transparent;\n",
              "      border-left-color: var(--fill-color);\n",
              "      border-top-color: var(--fill-color);\n",
              "    }\n",
              "    30% {\n",
              "      border-color: transparent;\n",
              "      border-left-color: var(--fill-color);\n",
              "      border-top-color: var(--fill-color);\n",
              "      border-right-color: var(--fill-color);\n",
              "    }\n",
              "    40% {\n",
              "      border-color: transparent;\n",
              "      border-right-color: var(--fill-color);\n",
              "      border-top-color: var(--fill-color);\n",
              "    }\n",
              "    60% {\n",
              "      border-color: transparent;\n",
              "      border-right-color: var(--fill-color);\n",
              "    }\n",
              "    80% {\n",
              "      border-color: transparent;\n",
              "      border-right-color: var(--fill-color);\n",
              "      border-bottom-color: var(--fill-color);\n",
              "    }\n",
              "    90% {\n",
              "      border-color: transparent;\n",
              "      border-bottom-color: var(--fill-color);\n",
              "    }\n",
              "  }\n",
              "</style>\n",
              "\n",
              "  <script>\n",
              "    async function quickchart(key) {\n",
              "      const quickchartButtonEl =\n",
              "        document.querySelector('#' + key + ' button');\n",
              "      quickchartButtonEl.disabled = true;  // To prevent multiple clicks.\n",
              "      quickchartButtonEl.classList.add('colab-df-spinner');\n",
              "      try {\n",
              "        const charts = await google.colab.kernel.invokeFunction(\n",
              "            'suggestCharts', [key], {});\n",
              "      } catch (error) {\n",
              "        console.error('Error during call to suggestCharts:', error);\n",
              "      }\n",
              "      quickchartButtonEl.classList.remove('colab-df-spinner');\n",
              "      quickchartButtonEl.classList.add('colab-df-quickchart-complete');\n",
              "    }\n",
              "    (() => {\n",
              "      let quickchartButtonEl =\n",
              "        document.querySelector('#df-a5bf37b8-ba06-46e7-bf72-e73ca23cb00a button');\n",
              "      quickchartButtonEl.style.display =\n",
              "        google.colab.kernel.accessAllowed ? 'block' : 'none';\n",
              "    })();\n",
              "  </script>\n",
              "</div>\n",
              "\n",
              "    </div>\n",
              "  </div>\n"
            ],
            "application/vnd.google.colaboratory.intrinsic+json": {
              "type": "dataframe",
              "variable_name": "df",
              "summary": "{\n  \"name\": \"df\",\n  \"rows\": 20,\n  \"fields\": [\n    {\n      \"column\": \"laptop_description\",\n      \"properties\": {\n        \"dtype\": \"string\",\n        \"num_unique_values\": 20,\n        \"samples\": [\n          \"The Dell Inspiron is a versatile laptop that combines powerful performance and affordability. It features an Intel Core i5 processor clocked at 2.4 GHz, ensuring smooth multitasking and efficient computing. With 8GB of RAM and an SSD, it offers quick data access and ample storage capacity. The laptop sports a vibrant 15.6\\\" LCD display with a resolution of 1920x1080, delivering crisp visuals and immersive viewing experience. Weighing just 2.5 kg, it is highly portable, making it ideal for on-the-go usage. Additionally, it boasts an Intel UHD GPU for decent graphical performance and a backlit keyboard for enhanced typing convenience. With a one-year warranty and a battery life of up to 6 hours, the Dell Inspiron is a reliable companion for work or entertainment. All these features are packed at an affordable price of 35,000, making it an excellent choice for budget-conscious users.\",\n          \"The HP ENVY x360 is a versatile 2-in-1 convertible laptop that combines performance and flexibility. It features an Intel Core i7 processor running at 2.8 GHz, providing powerful processing capabilities for multitasking and productivity. With 16GB of RAM and an SSD, it offers fast and efficient performance along with ample storage space. The laptop features a 15.6\\\" IPS display with a resolution of 1920x1080, delivering vibrant visuals and wide viewing angles. It comes with Intel Iris Xe integrated graphics for smooth graphics performance. Weighing 2.05 kg, it offers a good balance between portability and functionality. The laptop features a convertible design, allowing you to switch between laptop and tablet modes for enhanced versatility. With a one-year warranty and a battery life of up to 7 hours, the HP ENVY x360 offers reliability and endurance for everyday use. Priced at 80,000, it provides a versatile computing experience at an affordable price point.\",\n          \"The ASUS ZenBook 13 is a lightweight and powerful laptop that offers a premium computing experience. It is equipped with an Intel Core i7 processor running at 2.8 GHz, providing strong processing power for multitasking and productivity. With 16GB of RAM and an SSD, it offers fast and responsive performance along with ample storage capacity. The laptop features a 13.3\\\" NanoEdge display with a resolution of 1920x1080, delivering crisp visuals and immersive viewing. It comes with Intel Iris Xe integrated graphics for smooth graphics performance. Weighing just 1.11 kg, it is incredibly lightweight and highly portable. The laptop features military-grade durability, ensuring durability and reliability. With a two-year warranty and an impressive battery life of up to 11 hours, the ASUS ZenBook 13 offers long-lasting performance and endurance. Priced at 95,000, it provides a premium experience for users seeking a powerful and lightweight laptop.\"\n        ],\n        \"semantic_type\": \"\",\n        \"description\": \"\"\n      }\n    }\n  ]\n}"
            }
          },
          "metadata": {},
          "execution_count": 52
        }
      ]
    },
    {
      "cell_type": "markdown",
      "source": [
        "## ***1) Auto-classification***"
      ],
      "metadata": {
        "id": "_AVBE7kEmIrq"
      }
    },
    {
      "cell_type": "code",
      "source": [
        "mcq1_prompt = '''\n",
        "From the description of a laptop (delimited by '###'), you have to identify what role does the laptop serve.\n",
        "Refer to the key value pairs of categories and category details below. Identify which of the following details does the product description fits best and assign that category to that latpop. \\n\n",
        "Categories:\n",
        "[\n",
        "    'general': 'For general purpose use such as light web browsing, editing documents etc.'\n",
        "    'business': 'For business users, the focus is on portability, battery backup and general purpose use.'\n",
        "    'gamer': 'For gamers, the focus is primarily on high-performance, high-end graphics requirement, efficient processor etc.'\n",
        "    'programmer': 'For programmers, the focus is on performance, battery backup, high-end RAM etc.'\n",
        "    'multimedia': 'For multimedia use cases, the requirements are a good quality/ high resolution display, wide screens, good audio and video quality, battery backup, efficiency etc.' # Write the prompt here\n",
        "] \\n\n",
        "Laptop description: {description}\n",
        "'''"
      ],
      "metadata": {
        "id": "USHUuupnNELI"
      },
      "execution_count": null,
      "outputs": []
    },
    {
      "cell_type": "code",
      "source": [
        "def get_chat_response_mcq1(user_request):\n",
        "\n",
        "  '''\n",
        "  This function ONLY takes `user_request` as the input argument.\n",
        "  As you can see, the System Prompt is given inside the function itself so we don't require to give it as an input argument\n",
        "  '''\n",
        "  MODEL = 'gpt-3.5-turbo-16k'# Define GPT model\n",
        "\n",
        "  SYSTEM_MESSAGE = '''You are a shopping assistant. The user will give you laptop description and some categories and their details.\n",
        "  You have to find out which of the categories does the laptop fit best according to description.\n",
        "  Remember to only give one word output, the category name, from the list of categories only, which resembles most closely.''' # Default System Message\n",
        "\n",
        "  try:\n",
        "\n",
        "    messages = [\n",
        "        {\"role\": 'system', \"content\": SYSTEM_MESSAGE},\n",
        "        {\"role\": 'user', \"content\": user_request}\n",
        "    ] # Define the list of messages\n",
        "\n",
        "    response = openai.chat.completions.create(\n",
        "        model = MODEL,\n",
        "        messages = messages\n",
        "    )\n",
        "        # Get the ChatCompletion Response from the GPT-3.5 model\n",
        "\n",
        "    # Parse the response_content from the message\n",
        "    response_content = response.choices[0].message.content\n",
        "\n",
        "    return response_content\n",
        "\n",
        "  # Raise exception error\n",
        "  except Exception as e:\n",
        "    print(f\"An error occurred: {e}\")\n",
        "    return None"
      ],
      "metadata": {
        "id": "0LDbZnRiNFbg"
      },
      "execution_count": null,
      "outputs": []
    },
    {
      "cell_type": "code",
      "source": [
        "a = df.copy()"
      ],
      "metadata": {
        "id": "umz2yl_GNH3k"
      },
      "execution_count": null,
      "outputs": []
    },
    {
      "cell_type": "code",
      "source": [
        "#a.to_dict()\n",
        "# Laptop description is key inside with 0 key with 1st description, 1 key with 2nd description and so on"
      ],
      "metadata": {
        "id": "CLrZqLlZo-_D"
      },
      "execution_count": null,
      "outputs": []
    },
    {
      "cell_type": "code",
      "source": [
        "#a.to_dict(orient ='records')\n",
        "# Laptop description is the key for all descriptions"
      ],
      "metadata": {
        "id": "w_UZFLPnNJqU"
      },
      "execution_count": null,
      "outputs": []
    },
    {
      "cell_type": "code",
      "source": [
        "def tag_laptop():\n",
        "\n",
        "  laptop_df = df.copy()\n",
        "  laptop_dict = laptop_df.to_dict(orient ='records')\n",
        "\n",
        "\n",
        "  # Get the laptop_category for each laptop_decription df['Description'] by iterating over the dataframe with a for-loop\n",
        "\n",
        "  for i in range(len(laptop_dict)):\n",
        "    prompt = mcq1_prompt.format(description=laptop_dict[i]['laptop_description'])\n",
        "    laptop_category = get_chat_response_mcq1(prompt)\n",
        "    # Assign the laptop category to the column laptop_category\n",
        "    laptop_df.at[i,'Category'] = laptop_category   #df.loc to set multiple values, df.at to update a single value in DataFrame or Series\n",
        "\n",
        "  # return the DataFrame\n",
        "  return laptop_df"
      ],
      "metadata": {
        "id": "hCs9aHjmNLAe"
      },
      "execution_count": null,
      "outputs": []
    },
    {
      "cell_type": "code",
      "source": [
        "tag_df = tag_laptop()\n",
        "tag_df.head()"
      ],
      "metadata": {
        "id": "R7iaNfBlNMgD",
        "colab": {
          "base_uri": "https://localhost:8080/",
          "height": 206
        },
        "outputId": "f893e7b5-b4ef-4d5e-86ad-b02306052f29"
      },
      "execution_count": null,
      "outputs": [
        {
          "output_type": "execute_result",
          "data": {
            "text/plain": [
              "                                  laptop_description    Category\n",
              "0  The Dell Inspiron is a versatile laptop that c...  multimedia\n",
              "1  The MSI GL65 is a high-performance laptop desi...       gamer\n",
              "2  The HP EliteBook is a premium laptop designed ...    business\n",
              "3  The Lenovo IdeaPad is a versatile laptop that ...  multimedia\n",
              "4  The ASUS ZenBook Pro is a high-end laptop that...       gamer"
            ],
            "text/html": [
              "\n",
              "  <div id=\"df-04a19f68-42fd-48e1-b32e-0e6177ae5fa9\" class=\"colab-df-container\">\n",
              "    <div>\n",
              "<style scoped>\n",
              "    .dataframe tbody tr th:only-of-type {\n",
              "        vertical-align: middle;\n",
              "    }\n",
              "\n",
              "    .dataframe tbody tr th {\n",
              "        vertical-align: top;\n",
              "    }\n",
              "\n",
              "    .dataframe thead th {\n",
              "        text-align: right;\n",
              "    }\n",
              "</style>\n",
              "<table border=\"1\" class=\"dataframe\">\n",
              "  <thead>\n",
              "    <tr style=\"text-align: right;\">\n",
              "      <th></th>\n",
              "      <th>laptop_description</th>\n",
              "      <th>Category</th>\n",
              "    </tr>\n",
              "  </thead>\n",
              "  <tbody>\n",
              "    <tr>\n",
              "      <th>0</th>\n",
              "      <td>The Dell Inspiron is a versatile laptop that c...</td>\n",
              "      <td>multimedia</td>\n",
              "    </tr>\n",
              "    <tr>\n",
              "      <th>1</th>\n",
              "      <td>The MSI GL65 is a high-performance laptop desi...</td>\n",
              "      <td>gamer</td>\n",
              "    </tr>\n",
              "    <tr>\n",
              "      <th>2</th>\n",
              "      <td>The HP EliteBook is a premium laptop designed ...</td>\n",
              "      <td>business</td>\n",
              "    </tr>\n",
              "    <tr>\n",
              "      <th>3</th>\n",
              "      <td>The Lenovo IdeaPad is a versatile laptop that ...</td>\n",
              "      <td>multimedia</td>\n",
              "    </tr>\n",
              "    <tr>\n",
              "      <th>4</th>\n",
              "      <td>The ASUS ZenBook Pro is a high-end laptop that...</td>\n",
              "      <td>gamer</td>\n",
              "    </tr>\n",
              "  </tbody>\n",
              "</table>\n",
              "</div>\n",
              "    <div class=\"colab-df-buttons\">\n",
              "\n",
              "  <div class=\"colab-df-container\">\n",
              "    <button class=\"colab-df-convert\" onclick=\"convertToInteractive('df-04a19f68-42fd-48e1-b32e-0e6177ae5fa9')\"\n",
              "            title=\"Convert this dataframe to an interactive table.\"\n",
              "            style=\"display:none;\">\n",
              "\n",
              "  <svg xmlns=\"http://www.w3.org/2000/svg\" height=\"24px\" viewBox=\"0 -960 960 960\">\n",
              "    <path d=\"M120-120v-720h720v720H120Zm60-500h600v-160H180v160Zm220 220h160v-160H400v160Zm0 220h160v-160H400v160ZM180-400h160v-160H180v160Zm440 0h160v-160H620v160ZM180-180h160v-160H180v160Zm440 0h160v-160H620v160Z\"/>\n",
              "  </svg>\n",
              "    </button>\n",
              "\n",
              "  <style>\n",
              "    .colab-df-container {\n",
              "      display:flex;\n",
              "      gap: 12px;\n",
              "    }\n",
              "\n",
              "    .colab-df-convert {\n",
              "      background-color: #E8F0FE;\n",
              "      border: none;\n",
              "      border-radius: 50%;\n",
              "      cursor: pointer;\n",
              "      display: none;\n",
              "      fill: #1967D2;\n",
              "      height: 32px;\n",
              "      padding: 0 0 0 0;\n",
              "      width: 32px;\n",
              "    }\n",
              "\n",
              "    .colab-df-convert:hover {\n",
              "      background-color: #E2EBFA;\n",
              "      box-shadow: 0px 1px 2px rgba(60, 64, 67, 0.3), 0px 1px 3px 1px rgba(60, 64, 67, 0.15);\n",
              "      fill: #174EA6;\n",
              "    }\n",
              "\n",
              "    .colab-df-buttons div {\n",
              "      margin-bottom: 4px;\n",
              "    }\n",
              "\n",
              "    [theme=dark] .colab-df-convert {\n",
              "      background-color: #3B4455;\n",
              "      fill: #D2E3FC;\n",
              "    }\n",
              "\n",
              "    [theme=dark] .colab-df-convert:hover {\n",
              "      background-color: #434B5C;\n",
              "      box-shadow: 0px 1px 3px 1px rgba(0, 0, 0, 0.15);\n",
              "      filter: drop-shadow(0px 1px 2px rgba(0, 0, 0, 0.3));\n",
              "      fill: #FFFFFF;\n",
              "    }\n",
              "  </style>\n",
              "\n",
              "    <script>\n",
              "      const buttonEl =\n",
              "        document.querySelector('#df-04a19f68-42fd-48e1-b32e-0e6177ae5fa9 button.colab-df-convert');\n",
              "      buttonEl.style.display =\n",
              "        google.colab.kernel.accessAllowed ? 'block' : 'none';\n",
              "\n",
              "      async function convertToInteractive(key) {\n",
              "        const element = document.querySelector('#df-04a19f68-42fd-48e1-b32e-0e6177ae5fa9');\n",
              "        const dataTable =\n",
              "          await google.colab.kernel.invokeFunction('convertToInteractive',\n",
              "                                                    [key], {});\n",
              "        if (!dataTable) return;\n",
              "\n",
              "        const docLinkHtml = 'Like what you see? Visit the ' +\n",
              "          '<a target=\"_blank\" href=https://colab.research.google.com/notebooks/data_table.ipynb>data table notebook</a>'\n",
              "          + ' to learn more about interactive tables.';\n",
              "        element.innerHTML = '';\n",
              "        dataTable['output_type'] = 'display_data';\n",
              "        await google.colab.output.renderOutput(dataTable, element);\n",
              "        const docLink = document.createElement('div');\n",
              "        docLink.innerHTML = docLinkHtml;\n",
              "        element.appendChild(docLink);\n",
              "      }\n",
              "    </script>\n",
              "  </div>\n",
              "\n",
              "\n",
              "<div id=\"df-031c1d8d-d500-4b39-8ce8-9beece89efde\">\n",
              "  <button class=\"colab-df-quickchart\" onclick=\"quickchart('df-031c1d8d-d500-4b39-8ce8-9beece89efde')\"\n",
              "            title=\"Suggest charts\"\n",
              "            style=\"display:none;\">\n",
              "\n",
              "<svg xmlns=\"http://www.w3.org/2000/svg\" height=\"24px\"viewBox=\"0 0 24 24\"\n",
              "     width=\"24px\">\n",
              "    <g>\n",
              "        <path d=\"M19 3H5c-1.1 0-2 .9-2 2v14c0 1.1.9 2 2 2h14c1.1 0 2-.9 2-2V5c0-1.1-.9-2-2-2zM9 17H7v-7h2v7zm4 0h-2V7h2v10zm4 0h-2v-4h2v4z\"/>\n",
              "    </g>\n",
              "</svg>\n",
              "  </button>\n",
              "\n",
              "<style>\n",
              "  .colab-df-quickchart {\n",
              "      --bg-color: #E8F0FE;\n",
              "      --fill-color: #1967D2;\n",
              "      --hover-bg-color: #E2EBFA;\n",
              "      --hover-fill-color: #174EA6;\n",
              "      --disabled-fill-color: #AAA;\n",
              "      --disabled-bg-color: #DDD;\n",
              "  }\n",
              "\n",
              "  [theme=dark] .colab-df-quickchart {\n",
              "      --bg-color: #3B4455;\n",
              "      --fill-color: #D2E3FC;\n",
              "      --hover-bg-color: #434B5C;\n",
              "      --hover-fill-color: #FFFFFF;\n",
              "      --disabled-bg-color: #3B4455;\n",
              "      --disabled-fill-color: #666;\n",
              "  }\n",
              "\n",
              "  .colab-df-quickchart {\n",
              "    background-color: var(--bg-color);\n",
              "    border: none;\n",
              "    border-radius: 50%;\n",
              "    cursor: pointer;\n",
              "    display: none;\n",
              "    fill: var(--fill-color);\n",
              "    height: 32px;\n",
              "    padding: 0;\n",
              "    width: 32px;\n",
              "  }\n",
              "\n",
              "  .colab-df-quickchart:hover {\n",
              "    background-color: var(--hover-bg-color);\n",
              "    box-shadow: 0 1px 2px rgba(60, 64, 67, 0.3), 0 1px 3px 1px rgba(60, 64, 67, 0.15);\n",
              "    fill: var(--button-hover-fill-color);\n",
              "  }\n",
              "\n",
              "  .colab-df-quickchart-complete:disabled,\n",
              "  .colab-df-quickchart-complete:disabled:hover {\n",
              "    background-color: var(--disabled-bg-color);\n",
              "    fill: var(--disabled-fill-color);\n",
              "    box-shadow: none;\n",
              "  }\n",
              "\n",
              "  .colab-df-spinner {\n",
              "    border: 2px solid var(--fill-color);\n",
              "    border-color: transparent;\n",
              "    border-bottom-color: var(--fill-color);\n",
              "    animation:\n",
              "      spin 1s steps(1) infinite;\n",
              "  }\n",
              "\n",
              "  @keyframes spin {\n",
              "    0% {\n",
              "      border-color: transparent;\n",
              "      border-bottom-color: var(--fill-color);\n",
              "      border-left-color: var(--fill-color);\n",
              "    }\n",
              "    20% {\n",
              "      border-color: transparent;\n",
              "      border-left-color: var(--fill-color);\n",
              "      border-top-color: var(--fill-color);\n",
              "    }\n",
              "    30% {\n",
              "      border-color: transparent;\n",
              "      border-left-color: var(--fill-color);\n",
              "      border-top-color: var(--fill-color);\n",
              "      border-right-color: var(--fill-color);\n",
              "    }\n",
              "    40% {\n",
              "      border-color: transparent;\n",
              "      border-right-color: var(--fill-color);\n",
              "      border-top-color: var(--fill-color);\n",
              "    }\n",
              "    60% {\n",
              "      border-color: transparent;\n",
              "      border-right-color: var(--fill-color);\n",
              "    }\n",
              "    80% {\n",
              "      border-color: transparent;\n",
              "      border-right-color: var(--fill-color);\n",
              "      border-bottom-color: var(--fill-color);\n",
              "    }\n",
              "    90% {\n",
              "      border-color: transparent;\n",
              "      border-bottom-color: var(--fill-color);\n",
              "    }\n",
              "  }\n",
              "</style>\n",
              "\n",
              "  <script>\n",
              "    async function quickchart(key) {\n",
              "      const quickchartButtonEl =\n",
              "        document.querySelector('#' + key + ' button');\n",
              "      quickchartButtonEl.disabled = true;  // To prevent multiple clicks.\n",
              "      quickchartButtonEl.classList.add('colab-df-spinner');\n",
              "      try {\n",
              "        const charts = await google.colab.kernel.invokeFunction(\n",
              "            'suggestCharts', [key], {});\n",
              "      } catch (error) {\n",
              "        console.error('Error during call to suggestCharts:', error);\n",
              "      }\n",
              "      quickchartButtonEl.classList.remove('colab-df-spinner');\n",
              "      quickchartButtonEl.classList.add('colab-df-quickchart-complete');\n",
              "    }\n",
              "    (() => {\n",
              "      let quickchartButtonEl =\n",
              "        document.querySelector('#df-031c1d8d-d500-4b39-8ce8-9beece89efde button');\n",
              "      quickchartButtonEl.style.display =\n",
              "        google.colab.kernel.accessAllowed ? 'block' : 'none';\n",
              "    })();\n",
              "  </script>\n",
              "</div>\n",
              "\n",
              "    </div>\n",
              "  </div>\n"
            ],
            "application/vnd.google.colaboratory.intrinsic+json": {
              "type": "dataframe",
              "variable_name": "tag_df",
              "summary": "{\n  \"name\": \"tag_df\",\n  \"rows\": 20,\n  \"fields\": [\n    {\n      \"column\": \"laptop_description\",\n      \"properties\": {\n        \"dtype\": \"string\",\n        \"num_unique_values\": 20,\n        \"samples\": [\n          \"The Dell Inspiron is a versatile laptop that combines powerful performance and affordability. It features an Intel Core i5 processor clocked at 2.4 GHz, ensuring smooth multitasking and efficient computing. With 8GB of RAM and an SSD, it offers quick data access and ample storage capacity. The laptop sports a vibrant 15.6\\\" LCD display with a resolution of 1920x1080, delivering crisp visuals and immersive viewing experience. Weighing just 2.5 kg, it is highly portable, making it ideal for on-the-go usage. Additionally, it boasts an Intel UHD GPU for decent graphical performance and a backlit keyboard for enhanced typing convenience. With a one-year warranty and a battery life of up to 6 hours, the Dell Inspiron is a reliable companion for work or entertainment. All these features are packed at an affordable price of 35,000, making it an excellent choice for budget-conscious users.\",\n          \"The HP ENVY x360 is a versatile 2-in-1 convertible laptop that combines performance and flexibility. It features an Intel Core i7 processor running at 2.8 GHz, providing powerful processing capabilities for multitasking and productivity. With 16GB of RAM and an SSD, it offers fast and efficient performance along with ample storage space. The laptop features a 15.6\\\" IPS display with a resolution of 1920x1080, delivering vibrant visuals and wide viewing angles. It comes with Intel Iris Xe integrated graphics for smooth graphics performance. Weighing 2.05 kg, it offers a good balance between portability and functionality. The laptop features a convertible design, allowing you to switch between laptop and tablet modes for enhanced versatility. With a one-year warranty and a battery life of up to 7 hours, the HP ENVY x360 offers reliability and endurance for everyday use. Priced at 80,000, it provides a versatile computing experience at an affordable price point.\",\n          \"The ASUS ZenBook 13 is a lightweight and powerful laptop that offers a premium computing experience. It is equipped with an Intel Core i7 processor running at 2.8 GHz, providing strong processing power for multitasking and productivity. With 16GB of RAM and an SSD, it offers fast and responsive performance along with ample storage capacity. The laptop features a 13.3\\\" NanoEdge display with a resolution of 1920x1080, delivering crisp visuals and immersive viewing. It comes with Intel Iris Xe integrated graphics for smooth graphics performance. Weighing just 1.11 kg, it is incredibly lightweight and highly portable. The laptop features military-grade durability, ensuring durability and reliability. With a two-year warranty and an impressive battery life of up to 11 hours, the ASUS ZenBook 13 offers long-lasting performance and endurance. Priced at 95,000, it provides a premium experience for users seeking a powerful and lightweight laptop.\"\n        ],\n        \"semantic_type\": \"\",\n        \"description\": \"\"\n      }\n    },\n    {\n      \"column\": \"Category\",\n      \"properties\": {\n        \"dtype\": \"category\",\n        \"num_unique_values\": 6,\n        \"samples\": [\n          \"multimedia\",\n          \"gamer\",\n          \"The laptop description fits best in the 'gamer' category.\"\n        ],\n        \"semantic_type\": \"\",\n        \"description\": \"\"\n      }\n    }\n  ]\n}"
            }
          },
          "metadata": {},
          "execution_count": 59
        }
      ]
    },
    {
      "cell_type": "code",
      "source": [
        "tag_df['Category'].value_counts()"
      ],
      "metadata": {
        "id": "fo2L82JhNPXd",
        "colab": {
          "base_uri": "https://localhost:8080/"
        },
        "outputId": "3c4f4d1a-df5d-4615-d0b6-38861e7f4aaa"
      },
      "execution_count": null,
      "outputs": [
        {
          "output_type": "execute_result",
          "data": {
            "text/plain": [
              "Category\n",
              "multimedia                                                   8\n",
              "gamer                                                        4\n",
              "business                                                     3\n",
              "programmer                                                   2\n",
              "general                                                      2\n",
              "The laptop description fits best in the 'gamer' category.    1\n",
              "Name: count, dtype: int64"
            ]
          },
          "metadata": {},
          "execution_count": 60
        }
      ]
    },
    {
      "cell_type": "markdown",
      "source": [],
      "metadata": {
        "id": "1tipSJK6pzek"
      }
    },
    {
      "cell_type": "code",
      "source": [
        "'''\n",
        "1) Homework : Try examples in your company for all 3 use case (Extract info, Few shot prompting, Classification)\n",
        "\n",
        "2) Read about package --> wikipediaapi (to bring all data from wikipedia here) from wiki pedia get me answers\n",
        "\n",
        "3) For all laptop descriptions, output the data in this format\n",
        "'''\n",
        "\n",
        "'''\n",
        "structure = {\n",
        "    \"Brand\": ___ ,\n",
        "    \"Model Name\": ___ ,\n",
        "    \"GPU processor\": ___ ,\n",
        "    \"Display Resolution\": ___ ,\n",
        "    \"Weight\": ___ ,\n",
        "    \"Processor\": ___ ,\n",
        "    \"Clock speed\": ___ ,\n",
        "    \"Budget\": ___\n",
        "}\n",
        "'''"
      ],
      "metadata": {
        "id": "xr9x6SaFNxke",
        "colab": {
          "base_uri": "https://localhost:8080/",
          "height": 53
        },
        "outputId": "0e1ef446-aefa-4133-fe44-e1319ff407f0"
      },
      "execution_count": null,
      "outputs": [
        {
          "output_type": "execute_result",
          "data": {
            "text/plain": [
              "'\\nstructure = {\\n    \"Brand\": ___ ,\\n    \"Model Name\": ___ ,\\n    \"GPU processor\": ___ ,\\n    \"Display Resolution\": ___ ,\\n    \"Weight\": ___ ,\\n    \"Processor\": ___ ,\\n    \"Clock speed\": ___ ,\\n    \"Budget\": ___\\n}\\n'"
            ],
            "application/vnd.google.colaboratory.intrinsic+json": {
              "type": "string"
            }
          },
          "metadata": {},
          "execution_count": 61
        }
      ]
    },
    {
      "cell_type": "markdown",
      "source": [
        "## ***2) Extract Laptop Specifications***"
      ],
      "metadata": {
        "id": "Hp2AQvzr6DhZ"
      }
    },
    {
      "cell_type": "code",
      "source": [
        "'''\n",
        "mcq2_prompt =\n",
        "From the description of a laptop (delimited by '###'), you have to extract information and output in JSON format to the keys specified.\n",
        "Refer to the keys mentioned below and insert the values by extracting details from laptop description.\n",
        "Laptop Name = {\n",
        "    \"Brand\": ___ ,\n",
        "    \"Model Name\": ___ ,\n",
        "    \"GPU processor\": ___ ,\n",
        "    \"Display Resolution\": ___ ,\n",
        "    \"Weight\": ___ ,\n",
        "    \"Processor\": ___ ,\n",
        "    \"Clock speed\": ___ ,\n",
        "    \"Budget\": ___\n",
        "}\n",
        "Laptop description: {description}\n",
        "'''"
      ],
      "metadata": {
        "colab": {
          "base_uri": "https://localhost:8080/",
          "height": 70
        },
        "id": "3CEuG6IM6DAN",
        "outputId": "3e1cf091-3574-4b70-a199-06deae7574c2"
      },
      "execution_count": null,
      "outputs": [
        {
          "output_type": "execute_result",
          "data": {
            "text/plain": [
              "'\\nmcq2_prompt = \\nFrom the description of a laptop (delimited by \\'###\\'), you have to extract information and output in JSON format to the keys specified.\\nRefer to the keys mentioned below and insert the values by extracting details from laptop description.\\nLaptop Name = {\\n    \"Brand\": ___ ,\\n    \"Model Name\": ___ ,\\n    \"GPU processor\": ___ ,\\n    \"Display Resolution\": ___ ,\\n    \"Weight\": ___ ,\\n    \"Processor\": ___ ,\\n    \"Clock speed\": ___ ,\\n    \"Budget\": ___\\n}\\nLaptop description: {description}\\n'"
            ],
            "application/vnd.google.colaboratory.intrinsic+json": {
              "type": "string"
            }
          },
          "metadata": {},
          "execution_count": 62
        }
      ]
    },
    {
      "cell_type": "code",
      "source": [
        "mcq2_prompt = '''\n",
        "Laptop Decription: {description}\n",
        "From the laptop decription above, you have to extract relevant values for the following dictionary items. The dictionary structure should have keys\n",
        "\"Brand\",\"Model Name\",\"GPU processor\",\"Display Resolution\",\"Weight\",\"Processor\",\"Clock speed\",\"Budget\"\n",
        "Try giving quantitative, absolute, or numerical outputs. Try not to give qualitative or adjective outputs. for example: If the processing speed of a laptop is 2.4GHz, then, in the \"processing speed\" key, give output as '2.4GHz' instead of 'very fast'.\n",
        "Extract only one word values of these properties. Fill in the blanks for each product and output each product's dictionary in json format.\n",
        "'''"
      ],
      "metadata": {
        "id": "zRKbnyVCTemN"
      },
      "execution_count": null,
      "outputs": []
    },
    {
      "cell_type": "code",
      "source": [
        "def get_chat_response_mcq2(user_request):\n",
        "\n",
        "  MODEL = 'gpt-3.5-turbo-16k'# Define GPT model\n",
        "\n",
        "  SYSTEM_MESSAGE = 'You are a helpful shopping assitant.'  # Default System Message\n",
        "\n",
        "  try:\n",
        "  # Define the list of messages\n",
        "    messages = [\n",
        "        {'role': 'system', 'content': SYSTEM_MESSAGE},\n",
        "        {'role': 'user', 'content': user_request}\n",
        "    ]\n",
        "\n",
        "    # Get the ChatCompletion Response from the GPT-3.5 model\n",
        "    response = openai.chat.completions.create(\n",
        "        model = MODEL,\n",
        "        messages = messages,\n",
        "        #response_format = {'type': 'json_object'}\n",
        "    )\n",
        "\n",
        "    # Parse the response_content from the message\n",
        "    response_content = response.choices[0].message.content\n",
        "\n",
        "\n",
        "    return response_content\n",
        "\n",
        "  # Raise exception error\n",
        "  except Exception as e:\n",
        "    print(f\"An error occurred: {e}\")\n",
        "    return None"
      ],
      "metadata": {
        "id": "oxNPUpnHT6fr"
      },
      "execution_count": null,
      "outputs": []
    },
    {
      "cell_type": "code",
      "source": [
        "def extract_laptop_spec():\n",
        "\n",
        "  laptop_df = df.copy()\n",
        "  laptop_dict = laptop_df.to_dict(orient ='records')\n",
        "\n",
        "  # Creating an empty list to store the properties\n",
        "  result = []\n",
        "\n",
        "  # Get the relevant values for each of the property:\n",
        "  for i in range(len(laptop_dict)):\n",
        "    prompt = mcq2_prompt.format(description=laptop_dict[i]['laptop_description'], str='structure')\n",
        "    values = get_chat_response_mcq2(prompt)\n",
        "    result.append(values)\n",
        "    # We will print each of the dictionary of properties\n",
        "    print(result[i])\n",
        "\n",
        "  # But in the function output, we are returning the whole list as a whole.\n",
        "  return result"
      ],
      "metadata": {
        "id": "plEd9sS48pmX"
      },
      "execution_count": null,
      "outputs": []
    },
    {
      "cell_type": "code",
      "source": [
        "values = extract_laptop_spec()"
      ],
      "metadata": {
        "colab": {
          "base_uri": "https://localhost:8080/"
        },
        "id": "nwpnauGR8x6M",
        "outputId": "3ec6a380-ff23-476e-b173-b7ae9ba3bbc8"
      },
      "execution_count": null,
      "outputs": [
        {
          "output_type": "stream",
          "name": "stdout",
          "text": [
            "{\n",
            "  \"Brand\": \"Dell\",\n",
            "  \"Model Name\": \"Inspiron\",\n",
            "  \"GPU processor\": \"Intel\",\n",
            "  \"Display Resolution\": \"1920x1080\",\n",
            "  \"Weight\": \"2.5 kg\",\n",
            "  \"Processor\": \"Intel\",\n",
            "  \"Clock speed\": \"2.4 GHz\",\n",
            "  \"Budget\": \"35,000\"\n",
            "}\n",
            "{\n",
            "  \"Brand\": \"MSI\",\n",
            "  \"Model Name\": \"GL65\",\n",
            "  \"GPU processor\": \"NVIDIA\",\n",
            "  \"Display Resolution\": \"1920x1080\",\n",
            "  \"Weight\": \"2.3 kg\",\n",
            "  \"Processor\": \"Intel\",\n",
            "  \"Clock speed\": \"2.6 GHz\",\n",
            "  \"Budget\": \"55,000\"\n",
            "}\n",
            "{\n",
            "  \"Brand\": \"HP\",\n",
            "  \"Model Name\": \"EliteBook\",\n",
            "  \"GPU processor\": \"Intel UHD\",\n",
            "  \"Display Resolution\": \"1920x1080\",\n",
            "  \"Weight\": \"1.5 kg\",\n",
            "  \"Processor\": \"Intel Core\",\n",
            "  \"Clock speed\": \"2.8 GHz\",\n",
            "  \"Budget\": \"90,000\"\n",
            "}\n",
            "{\n",
            "    \"Brand\": \"Lenovo\",\n",
            "    \"Model Name\": \"IdeaPad\",\n",
            "    \"GPU processor\": \"Intel UHD\",\n",
            "    \"Display Resolution\": \"1366x768\",\n",
            "    \"Weight\": \"2.2 kg\",\n",
            "    \"Processor\": \"Intel Core i3\",\n",
            "    \"Clock speed\": \"2.1 GHz\",\n",
            "    \"Budget\": \"25,000\"\n",
            "}\n",
            "{\n",
            "  \"Brand\": \"ASUS\",\n",
            "  \"Model Name\": \"ZenBook Pro\",\n",
            "  \"GPU processor\": \"NVIDIA\",\n",
            "  \"Display Resolution\": \"3840x2160\",\n",
            "  \"Weight\": \"1.8kg\",\n",
            "  \"Processor\": \"Intel\",\n",
            "  \"Clock speed\": \"3.1GHz\",\n",
            "  \"Budget\": \"200000\"\n",
            "}\n",
            "{\n",
            "  \"Brand\": \"Acer\",\n",
            "  \"Model Name\": \"Predator\",\n",
            "  \"GPU processor\": \"NVIDIA\",\n",
            "  \"Display Resolution\": \"1920x1080\",\n",
            "  \"Weight\": \"3.2 kg\",\n",
            "  \"Processor\": \"Intel\",\n",
            "  \"Clock speed\": \"2.8 GHz\",\n",
            "  \"Budget\": \"80,000\"\n",
            "}\n",
            "{\"Brand\": \"Microsoft\",\n",
            " \"Model Name\": \"Surface Laptop\",\n",
            " \"GPU processor\": \"Intel Iris Plus\",\n",
            " \"Display Resolution\": \"2256x1504\",\n",
            " \"Weight\": \"1.3 kg\",\n",
            " \"Processor\": \"Intel Core i5\",\n",
            " \"Clock speed\": \"1.6 GHz\",\n",
            " \"Budget\": \"90,000\"}\n",
            "{\n",
            "    \"Brand\": \"Lenovo\",\n",
            "    \"Model Name\": \"ThinkPad\",\n",
            "    \"GPU processor\": \"NVIDIA\",\n",
            "    \"Display Resolution\": \"2560x1440\",\n",
            "    \"Weight\": \"1.6 kg\",\n",
            "    \"Processor\": \"Ryzen\",\n",
            "    \"Clock speed\": \"3.0 GHz\",\n",
            "    \"Budget\": \"60,000\"\n",
            "}\n",
            "{\n",
            "  \"Brand\": \"HP\",\n",
            "  \"Model Name\": \"Pavilion\",\n",
            "  \"GPU processor\": \"Intel UHD\",\n",
            "  \"Display Resolution\": \"1366x768\",\n",
            "  \"Weight\": \"2.1 kg\",\n",
            "  \"Processor\": \"Intel Core i5\",\n",
            "  \"Clock speed\": \"2.3 GHz\",\n",
            "  \"Budget\": \"30000\"\n",
            "}\n",
            "{\n",
            "  \"Brand\": \"ASUS\",\n",
            "  \"Model Name\": \"ROG Strix G\",\n",
            "  \"GPU processor\": \"NVIDIA RTX\",\n",
            "  \"Display Resolution\": \"1920x1080\",\n",
            "  \"Weight\": \"2.9 kg\",\n",
            "  \"Processor\": \"Intel Core i7\",\n",
            "  \"Clock speed\": \"2.9 GHz\",\n",
            "  \"Budget\": \"85,000\"\n",
            "}\n",
            "{\"Brand\": \"Dell\", \"Model Name\": \"XPS 15\", \"GPU processor\": \"NVIDIA\", \"Display Resolution\": \"3840x2160\", \"Weight\": \"1.8kg\", \"Processor\": \"Intel\", \"Clock speed\": \"2.8GHz\", \"Budget\": \"180,000\"}\n",
            "{\n",
            "  \"Brand\": \"Lenovo\",\n",
            "  \"Model Name\": \"ThinkPad X1 Carbon\",\n",
            "  \"GPU processor\": \"Intel\",\n",
            "  \"Display Resolution\": \"2560x1440\",\n",
            "  \"Weight\": \"1.13 kg\",\n",
            "  \"Processor\": \"Intel Core i7\",\n",
            "  \"Clock speed\": \"2.6 GHz\",\n",
            "  \"Budget\": \"130000\"\n",
            "}\n",
            "{\n",
            "  \"Brand\": \"Acer\",\n",
            "  \"Model Name\": \"Swift 3\",\n",
            "  \"GPU processor\": \"AMD Radeon\",\n",
            "  \"Display Resolution\": \"1920x1080\",\n",
            "  \"Weight\": \"1.2 kg\",\n",
            "  \"Processor\": \"AMD Ryzen 5\",\n",
            "  \"Clock speed\": \"2.3 GHz\",\n",
            "  \"Budget\": \"50,000\"\n",
            "}\n",
            "{\n",
            "  \"Brand\": \"Apple\",\n",
            "  \"Model Name\": \"MacBook Air\",\n",
            "  \"GPU processor\": \"Integrated\",\n",
            "  \"Display Resolution\": \"2560x1600\",\n",
            "  \"Weight\": \"1.29kg\",\n",
            "  \"Processor\": \"M1\",\n",
            "  \"Clock speed\": \"3.2GHz\",\n",
            "  \"Budget\": \"100000\"\n",
            "}\n",
            "{\n",
            "  \"Brand\": \"MSI\",\n",
            "  \"Model Name\": \"Prestige 14\",\n",
            "  \"GPU processor\": \"NVIDIA GTX\",\n",
            "  \"Display Resolution\": \"1920x1080\",\n",
            "  \"Weight\": \"1.29 kg\",\n",
            "  \"Processor\": \"Intel Core i5\",\n",
            "  \"Clock speed\": \"2.4 GHz\",\n",
            "  \"Budget\": \"70,000\"\n",
            "}\n",
            "{\n",
            "  \"Brand\": \"ASUS\",\n",
            "  \"Model Name\": \"ZenBook 13\",\n",
            "  \"GPU processor\": \"Intel Iris Xe\",\n",
            "  \"Display Resolution\": \"1920x1080\",\n",
            "  \"Weight\": \"1.11 kg\",\n",
            "  \"Processor\": \"Intel Core i7\",\n",
            "  \"Clock speed\": \"2.8 GHz\",\n",
            "  \"Budget\": \"95,000\"\n",
            "}\n",
            "{\n",
            "  \"Brand\": \"Dell\",\n",
            "  \"Model Name\": \"Precision 5550\",\n",
            "  \"GPU processor\": \"NVIDIA Quadro\",\n",
            "  \"Display Resolution\": \"3840x2160\",\n",
            "  \"Weight\": \"1.83 kg\",\n",
            "  \"Processor\": \"Intel Xeon\",\n",
            "  \"Clock speed\": \"2.6 GHz\",\n",
            "  \"Budget\": \"250000\"\n",
            "}\n",
            "{\n",
            "  \"Brand\": \"HP\",\n",
            "  \"Model Name\": \"ENVY x360\",\n",
            "  \"GPU processor\": \"Intel Iris Xe\",\n",
            "  \"Display Resolution\": \"1920x1080\",\n",
            "  \"Weight\": \"2.05 kg\",\n",
            "  \"Processor\": \"Intel Core i7\",\n",
            "  \"Clock speed\": \"2.8 GHz\",\n",
            "  \"Budget\": \"80,000\"\n",
            "}\n",
            "{\n",
            "  \"Brand\": \"Razer\",\n",
            "  \"Model Name\": \"Blade 15\",\n",
            "  \"GPU processor\": \"NVIDIA\",\n",
            "  \"Display Resolution\": \"1920x1080\",\n",
            "  \"Weight\": \"2.09 kg\",\n",
            "  \"Processor\": \"Intel\",\n",
            "  \"Clock speed\": \"2.6 GHz\",\n",
            "  \"Budget\": \"150,000\"\n",
            "}\n",
            "{\n",
            "  \"Brand\": \"Apple\",\n",
            "  \"Model Name\": \"MacBook Pro\",\n",
            "  \"GPU processor\": \"AMD\",\n",
            "  \"Display Resolution\": \"3072x1920\",\n",
            "  \"Weight\": \"2.02\",\n",
            "  \"Processor\": \"Intel\",\n",
            "  \"Clock speed\": \"2.9\",\n",
            "  \"Budget\": \"280000\"\n",
            "}\n"
          ]
        }
      ]
    },
    {
      "cell_type": "markdown",
      "source": [],
      "metadata": {
        "id": "Eo2NaHGs-Ka9"
      }
    }
  ]
}