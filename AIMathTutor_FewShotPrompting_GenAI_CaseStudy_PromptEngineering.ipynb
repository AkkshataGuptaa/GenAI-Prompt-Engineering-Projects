{
  "nbformat": 4,
  "nbformat_minor": 0,
  "metadata": {
    "colab": {
      "provenance": [],
      "toc_visible": true
    },
    "kernelspec": {
      "name": "python3",
      "display_name": "Python 3"
    },
    "language_info": {
      "name": "python"
    }
  },
  "cells": [
    {
      "cell_type": "code",
      "source": [
        "# importing essential libraries\n",
        "from google.colab import drive\n",
        "!pip install openai\n",
        "import openai\n",
        "import json\n",
        "!pip install tenacity\n",
        "from tenacity import retry, wait_random_exponential, stop_after_attempt\n",
        "# Installing and importing Wiki api\n",
        "!pip install -q -U wikipedia-api\n",
        "!pip3 install wikipedia-api\n",
        "import wikipediaapi"
      ],
      "metadata": {
        "id": "WQdTNvCF215o",
        "colab": {
          "base_uri": "https://localhost:8080/"
        },
        "outputId": "18134dda-f0fe-44b9-be5e-0a4119f7c3b2"
      },
      "execution_count": null,
      "outputs": [
        {
          "output_type": "stream",
          "name": "stdout",
          "text": [
            "Requirement already satisfied: openai in /usr/local/lib/python3.10/dist-packages (1.35.13)\n",
            "Requirement already satisfied: anyio<5,>=3.5.0 in /usr/local/lib/python3.10/dist-packages (from openai) (3.7.1)\n",
            "Requirement already satisfied: distro<2,>=1.7.0 in /usr/lib/python3/dist-packages (from openai) (1.7.0)\n",
            "Requirement already satisfied: httpx<1,>=0.23.0 in /usr/local/lib/python3.10/dist-packages (from openai) (0.27.0)\n",
            "Requirement already satisfied: pydantic<3,>=1.9.0 in /usr/local/lib/python3.10/dist-packages (from openai) (2.8.2)\n",
            "Requirement already satisfied: sniffio in /usr/local/lib/python3.10/dist-packages (from openai) (1.3.1)\n",
            "Requirement already satisfied: tqdm>4 in /usr/local/lib/python3.10/dist-packages (from openai) (4.66.4)\n",
            "Requirement already satisfied: typing-extensions<5,>=4.7 in /usr/local/lib/python3.10/dist-packages (from openai) (4.12.2)\n",
            "Requirement already satisfied: idna>=2.8 in /usr/local/lib/python3.10/dist-packages (from anyio<5,>=3.5.0->openai) (3.7)\n",
            "Requirement already satisfied: exceptiongroup in /usr/local/lib/python3.10/dist-packages (from anyio<5,>=3.5.0->openai) (1.2.1)\n",
            "Requirement already satisfied: certifi in /usr/local/lib/python3.10/dist-packages (from httpx<1,>=0.23.0->openai) (2024.7.4)\n",
            "Requirement already satisfied: httpcore==1.* in /usr/local/lib/python3.10/dist-packages (from httpx<1,>=0.23.0->openai) (1.0.5)\n",
            "Requirement already satisfied: h11<0.15,>=0.13 in /usr/local/lib/python3.10/dist-packages (from httpcore==1.*->httpx<1,>=0.23.0->openai) (0.14.0)\n",
            "Requirement already satisfied: annotated-types>=0.4.0 in /usr/local/lib/python3.10/dist-packages (from pydantic<3,>=1.9.0->openai) (0.7.0)\n",
            "Requirement already satisfied: pydantic-core==2.20.1 in /usr/local/lib/python3.10/dist-packages (from pydantic<3,>=1.9.0->openai) (2.20.1)\n",
            "Requirement already satisfied: tenacity in /usr/local/lib/python3.10/dist-packages (8.5.0)\n",
            "Requirement already satisfied: wikipedia-api in /usr/local/lib/python3.10/dist-packages (0.6.0)\n",
            "Requirement already satisfied: requests in /usr/local/lib/python3.10/dist-packages (from wikipedia-api) (2.31.0)\n",
            "Requirement already satisfied: charset-normalizer<4,>=2 in /usr/local/lib/python3.10/dist-packages (from requests->wikipedia-api) (3.3.2)\n",
            "Requirement already satisfied: idna<4,>=2.5 in /usr/local/lib/python3.10/dist-packages (from requests->wikipedia-api) (3.7)\n",
            "Requirement already satisfied: urllib3<3,>=1.21.1 in /usr/local/lib/python3.10/dist-packages (from requests->wikipedia-api) (2.0.7)\n",
            "Requirement already satisfied: certifi>=2017.4.17 in /usr/local/lib/python3.10/dist-packages (from requests->wikipedia-api) (2024.7.4)\n"
          ]
        }
      ]
    },
    {
      "cell_type": "markdown",
      "source": [
        "# ***Using ChatGPT through API***"
      ],
      "metadata": {
        "id": "9UoCAzS37PB5"
      }
    },
    {
      "cell_type": "markdown",
      "source": [
        "## ***Installing and importing OpenAI***"
      ],
      "metadata": {
        "id": "dpa3WdKI_2fN"
      }
    },
    {
      "cell_type": "code",
      "execution_count": null,
      "metadata": {
        "colab": {
          "base_uri": "https://localhost:8080/"
        },
        "id": "D7hzDnsEsR2V",
        "outputId": "92db95d8-8150-40aa-e45e-d025676862d9"
      },
      "outputs": [
        {
          "output_type": "stream",
          "name": "stdout",
          "text": [
            "Requirement already satisfied: openai in /usr/local/lib/python3.10/dist-packages (1.35.13)\n",
            "Requirement already satisfied: anyio<5,>=3.5.0 in /usr/local/lib/python3.10/dist-packages (from openai) (3.7.1)\n",
            "Requirement already satisfied: distro<2,>=1.7.0 in /usr/lib/python3/dist-packages (from openai) (1.7.0)\n",
            "Requirement already satisfied: httpx<1,>=0.23.0 in /usr/local/lib/python3.10/dist-packages (from openai) (0.27.0)\n",
            "Requirement already satisfied: pydantic<3,>=1.9.0 in /usr/local/lib/python3.10/dist-packages (from openai) (2.8.2)\n",
            "Requirement already satisfied: sniffio in /usr/local/lib/python3.10/dist-packages (from openai) (1.3.1)\n",
            "Requirement already satisfied: tqdm>4 in /usr/local/lib/python3.10/dist-packages (from openai) (4.66.4)\n",
            "Requirement already satisfied: typing-extensions<5,>=4.7 in /usr/local/lib/python3.10/dist-packages (from openai) (4.12.2)\n",
            "Requirement already satisfied: idna>=2.8 in /usr/local/lib/python3.10/dist-packages (from anyio<5,>=3.5.0->openai) (3.7)\n",
            "Requirement already satisfied: exceptiongroup in /usr/local/lib/python3.10/dist-packages (from anyio<5,>=3.5.0->openai) (1.2.1)\n",
            "Requirement already satisfied: certifi in /usr/local/lib/python3.10/dist-packages (from httpx<1,>=0.23.0->openai) (2024.7.4)\n",
            "Requirement already satisfied: httpcore==1.* in /usr/local/lib/python3.10/dist-packages (from httpx<1,>=0.23.0->openai) (1.0.5)\n",
            "Requirement already satisfied: h11<0.15,>=0.13 in /usr/local/lib/python3.10/dist-packages (from httpcore==1.*->httpx<1,>=0.23.0->openai) (0.14.0)\n",
            "Requirement already satisfied: annotated-types>=0.4.0 in /usr/local/lib/python3.10/dist-packages (from pydantic<3,>=1.9.0->openai) (0.7.0)\n",
            "Requirement already satisfied: pydantic-core==2.20.1 in /usr/local/lib/python3.10/dist-packages (from pydantic<3,>=1.9.0->openai) (2.20.1)\n"
          ]
        }
      ],
      "source": [
        "#Install OpenAI\n",
        "\n",
        "!pip install openai"
      ]
    },
    {
      "cell_type": "markdown",
      "source": [
        "## ***Mounting Google Drive in Collab***"
      ],
      "metadata": {
        "id": "MbXddeTr_9c_"
      }
    },
    {
      "cell_type": "code",
      "source": [
        "#Get content from google drive to google collab - MOUNT Google drive\n",
        "from google.colab import drive\n",
        "drive.mount('/content/drive', force_remount = True)   #content/drive is the default location for google drive & force remount helps remount any new file uploaded to the drive"
      ],
      "metadata": {
        "colab": {
          "base_uri": "https://localhost:8080/"
        },
        "id": "dFpWlC5s2UVB",
        "outputId": "199967d0-cb8e-40cf-d091-ef513b25f616"
      },
      "execution_count": null,
      "outputs": [
        {
          "output_type": "stream",
          "name": "stdout",
          "text": [
            "Mounted at /content/drive\n"
          ]
        }
      ]
    },
    {
      "cell_type": "code",
      "source": [
        "#Updates the file path to GenAI folder in Google Drive\n",
        "filepath = \"/content/drive/MyDrive/GenAI/\"   # Check the drive structure from 'Files' in google collab after mounting"
      ],
      "metadata": {
        "id": "jbOpb1Kv3S7g"
      },
      "execution_count": null,
      "outputs": []
    },
    {
      "cell_type": "code",
      "source": [
        "# Check if drive got mounted or not - ls command shows all files present inside your directory\n",
        "!ls \"/content/drive/MyDrive/GenAI\""
      ],
      "metadata": {
        "colab": {
          "base_uri": "https://localhost:8080/"
        },
        "id": "KZZPG_Nr5B8p",
        "outputId": "15fbf0e8-5830-4295-af6d-188cc206a48e"
      },
      "execution_count": null,
      "outputs": [
        {
          "output_type": "stream",
          "name": "stdout",
          "text": [
            " AI_tutor_system_message_1.txt\t\t\t 'Investor Call Transcript - Q2FY23 Results.txt'\n",
            " AsianPaints.txt\t\t\t\t  laptop_descriptions.csv\n",
            " earnings-call-transcript-q4-fy23.pdf\t\t  tata_motors_transcript_sample.txt\n",
            "'Investor Call Transcript - Q2FY23 Results.pdf'   tata_transcript.txt\n"
          ]
        }
      ]
    },
    {
      "cell_type": "code",
      "source": [
        "# importing openai\n",
        "import openai"
      ],
      "metadata": {
        "id": "qe7BUb076T6N"
      },
      "execution_count": null,
      "outputs": []
    },
    {
      "cell_type": "markdown",
      "source": [
        "**Steps:**\n",
        "* Go to https://platform.openai.com/docs/overview\n",
        "* Your profile > Billing > Add account details and $5 to your account balance >\n",
        "* Dashboard > API Keys > Create New Secret Key > Add a Name > Save the key > Close"
      ],
      "metadata": {
        "id": "m41mUvmd7Pck"
      }
    },
    {
      "cell_type": "code",
      "source": [
        "# connecting to openai\n",
        "openai.api_key = \"############\"  #Hide key because it is chargeable\n",
        "\n",
        "# Option 2 - Can update secret key in key icon on google collab\n",
        "# Option 3 - Can place the key in google drive and read from there"
      ],
      "metadata": {
        "id": "3VKtzDd55Z2l"
      },
      "execution_count": null,
      "outputs": []
    },
    {
      "cell_type": "markdown",
      "source": [
        "# ***Prompt Engineering - \"Creating AI Math Tutor with Cost Calculation\" Case Study***\n",
        "\n",
        "Few shot prompt Engineering"
      ],
      "metadata": {
        "id": "OxYOjfsSMeCi"
      }
    },
    {
      "cell_type": "markdown",
      "source": [
        "### ***TEST 1***"
      ],
      "metadata": {
        "id": "r91e_p_FV9Po"
      }
    },
    {
      "cell_type": "code",
      "source": [
        "chat_response = openai.chat.completions.create(\n",
        "  model=\"gpt-3.5-turbo-16k\",\n",
        "  messages=[\n",
        "        {\"role\": \"system\", \"content\": \"You are an AI tutor that assists school students with math homework problems.\"},\n",
        "        {\"role\": \"user\", \"content\": \"Help me solve the equation 2x - 10 = 20.\"},\n",
        "        {\"role\": \"assistant\", \"content\": \"Try moving the 10 to the right hand side of the equation. What do you get?\"},\n",
        "        {\"role\": \"user\", \"content\": \"x + 10 = 15\"}\n",
        "    ]\n",
        ")\n",
        "\n",
        "# extract only the text\n",
        "print(chat_response.choices[0].message.content)\n",
        "\n",
        "# GIVING WRONG ANSWER - ChatGPT is not good at Math, not been pretained well at math. It is good at NLP - text.\n",
        "# MORE EXAMPLES NEEDED"
      ],
      "metadata": {
        "id": "6NKaSEfUMZX1",
        "colab": {
          "base_uri": "https://localhost:8080/"
        },
        "outputId": "a9c3b146-6518-4c20-f25b-7e2bc606ad4d"
      },
      "execution_count": null,
      "outputs": [
        {
          "output_type": "stream",
          "name": "stdout",
          "text": [
            "To solve for x, you need to isolate x on one side of the equation. \n",
            "\n",
            "To do that, subtract 10 from both sides of the equation:\n",
            "\n",
            "x + 10 - 10 = 15 - 10\n",
            "\n",
            "This simplifies to:\n",
            "\n",
            "x = 5\n",
            "\n",
            "So the solution to the equation 2x - 10 = 20 is x = 5.\n"
          ]
        }
      ]
    },
    {
      "cell_type": "markdown",
      "source": [
        "### ***TEST 2***"
      ],
      "metadata": {
        "id": "QgNDJzJ5WDj6"
      }
    },
    {
      "cell_type": "markdown",
      "source": [
        "***AI Tutor system message***\n",
        "\n",
        "\n",
        "You are an AI tutor that assists school students with math homework problems. You never reveal the right answer to the student. You ask probing questions to identify where the student might be needing help, provide hints and guidance, and provide directional feedback to indicate if the student is moving in the right direction.\n",
        "\n",
        "Do not reveal the correct answer to the student."
      ],
      "metadata": {
        "id": "_HhSOYLxVPvW"
      }
    },
    {
      "cell_type": "code",
      "source": [
        "with open(filepath + \"AI_tutor_system_message_1.txt\", \"r\") as f:\n",
        "  system_message = ' '.join(f.readlines())\n",
        "\n",
        "print(system_message)"
      ],
      "metadata": {
        "colab": {
          "base_uri": "https://localhost:8080/"
        },
        "id": "BRa_nqxDMcH-",
        "outputId": "18108399-e4d0-4d48-8f50-5d59752bc13a"
      },
      "execution_count": null,
      "outputs": [
        {
          "output_type": "stream",
          "name": "stdout",
          "text": [
            "You are an AI tutor that assists school students with math homework problems. You never reveal the right answer to the student. You ask probing questions to identify where the student might be needing help, provide hints and guidance, and provide directional feedback to indicate if the student is moving in the right direction.\n",
            " \n",
            " Do not reveal the correct answer to the student.\n",
            " \n",
            "\n"
          ]
        }
      ]
    },
    {
      "cell_type": "code",
      "source": [
        "message_history = [\n",
        "        {\"role\": \"system\", \"content\": system_message},\n",
        "        {\"role\": \"user\", \"content\": \"Help me solve the equation 3x - 9 = 21.\"},\n",
        "        {\"role\": \"assistant\", \"content\": \"Sure! Try moving the 9 to the right hand side of the equation. What do you get?\"},\n",
        "        {\"role\": \"user\", \"content\": \"3x = 12\"},\n",
        "        {\"role\": \"assistant\", \"content\": \"Well, there seems to be a mistake. When you move 9 to the right hand side, you need to change its sign. Can you try again?\"},\n",
        "        {\"role\": \"user\", \"content\": \"3x = 30\"},\n",
        "        {\"role\": \"assistant\", \"content\": \"That looks good, great job! Now, try to divide both sides by 3. What do you get?\"},\n",
        "        {\"role\": \"user\", \"content\": \"x = 10\"},\n",
        "    ]"
      ],
      "metadata": {
        "id": "fj4MdE0EMkCP"
      },
      "execution_count": null,
      "outputs": []
    },
    {
      "cell_type": "code",
      "source": [
        "chat_response = openai.chat.completions.create(\n",
        "  model=\"gpt-3.5-turbo-16k\",\n",
        "  messages = message_history)\n",
        "\n",
        "print(chat_response.choices[0].message.content)"
      ],
      "metadata": {
        "id": "IUmt-_PIMm3m",
        "colab": {
          "base_uri": "https://localhost:8080/"
        },
        "outputId": "dc0fe3a3-bbb4-4229-a9ad-eb350db91a9c"
      },
      "execution_count": null,
      "outputs": [
        {
          "output_type": "stream",
          "name": "stdout",
          "text": [
            "Well done! You solved for the value of x correctly. The solution x = 10 is correct. Keep up the good work! Is there anything else I can help you with?\n"
          ]
        }
      ]
    },
    {
      "cell_type": "code",
      "source": [
        "message_history = [\n",
        "        {\"role\": \"system\", \"content\": system_message},\n",
        "        {\"role\": \"system\", \"name\":\"example_user\", \"content\": \"Help me solve the equation 3x - 9 = 21.\"},\n",
        "        {\"role\": \"system\", \"name\":\"example_assistant\", \"content\": \"Sure! Try moving the 9 to the right hand side of the equation. What do you get?\"},\n",
        "        {\"role\": \"system\", \"name\":\"example_user\", \"content\": \"3x = 12\"},\n",
        "        {\"role\": \"system\", \"name\":\"example_assistant\", \"content\": \"Well, there seems to be a mistake. When you move 9 to the right hand side, you need to change its sign. Can you try again?\"},\n",
        "        {\"role\": \"system\", \"name\":\"example_user\", \"content\": \"3x = 30\"},\n",
        "        {\"role\": \"system\", \"name\":\"example_assistant\", \"content\": \"That looks good, great job! Now, try to divide both sides by 3. What do you get?\"},\n",
        "        {\"role\": \"system\", \"name\":\"example_user\", \"content\": \"x = 10\"},\n",
        "        {\"role\": \"user\", \"content\": \"Help me solve the equation x - 10 = 2x\"}\n",
        "    ]"
      ],
      "metadata": {
        "id": "WmlwlY-aMoLN"
      },
      "execution_count": null,
      "outputs": []
    },
    {
      "cell_type": "code",
      "source": [
        "chat_response = openai.chat.completions.create(\n",
        "  model=\"gpt-3.5-turbo-16k\",\n",
        "  messages = message_history)\n",
        "\n",
        "print(chat_response.choices[0].message.content)\n",
        "\n",
        "# STILL NOT GIVING PROPER RESPONSE - STOPPING AT FIRST STEP. It is not interactive."
      ],
      "metadata": {
        "id": "wW9kJjJvMpqZ",
        "colab": {
          "base_uri": "https://localhost:8080/"
        },
        "outputId": "d6bfd473-adaa-46cf-bdad-cacfd3b678a3"
      },
      "execution_count": null,
      "outputs": [
        {
          "output_type": "stream",
          "name": "stdout",
          "text": [
            "Sure! To start, let's simplify the equation. What happens if you subtract x from both sides of the equation?\n"
          ]
        }
      ]
    },
    {
      "cell_type": "markdown",
      "source": [
        "### ***TEST 3***\n",
        "\n",
        "Make it interactive - Creating system from scratch (on top of ChatGPT)"
      ],
      "metadata": {
        "id": "Uikd8n85Wumv"
      }
    },
    {
      "cell_type": "code",
      "source": [
        "# Taking user input\n",
        "inp = input()"
      ],
      "metadata": {
        "id": "XW2SfK0pMr53",
        "colab": {
          "base_uri": "https://localhost:8080/"
        },
        "outputId": "d0c18ba5-ca6d-430e-ac41-5a451de300b0"
      },
      "execution_count": null,
      "outputs": [
        {
          "name": "stdout",
          "output_type": "stream",
          "text": [
            "4x - 12 = 4\n"
          ]
        }
      ]
    },
    {
      "cell_type": "code",
      "source": [
        "# declare variables to maintain a counter\n",
        "max_conversations = 20\n",
        "conversation_length = 0    # initialize\n",
        "\n",
        "# initialize system message, user and assistant examples\n",
        "message_history = [\n",
        "        {\"role\": \"system\", \"content\": system_message},\n",
        "        {\"role\": \"system\", \"name\":\"example_user\", \"content\": \"Help me solve the equation 3x - 9 = 21.\"},\n",
        "        {\"role\": \"system\", \"name\":\"example_assistant\", \"content\": \"Sure! Try moving the 9 to the right hand side of the equation. What do you get?\"},\n",
        "        {\"role\": \"system\", \"name\":\"example_user\", \"content\": \"3x = 12\"},\n",
        "        {\"role\": \"system\", \"name\":\"example_assistant\", \"content\": \"Well, there seems to be a mistake. When you move 9 to the right hand side, you need to change its sign. Can you try again?\"},\n",
        "        {\"role\": \"system\", \"name\":\"example_user\", \"content\": \"3x = 30\"},\n",
        "        {\"role\": \"system\", \"name\":\"example_assistant\", \"content\": \"That looks good, great job! Now, try to divide both sides by 3. What do you get?\"},\n",
        "        {\"role\": \"system\", \"name\":\"example_user\", \"content\": \"x = 10\"}]"
      ],
      "metadata": {
        "id": "_e9OWyZnMtpL"
      },
      "execution_count": null,
      "outputs": []
    },
    {
      "cell_type": "code",
      "source": [
        "while conversation_length < max_conversations:\n",
        "  user_input = input()\n",
        "\n",
        "  # exit if user enters exit\n",
        "  if \"exit\" in user_input.lower():\n",
        "    print(\"AI Tutor: Exiting the program!\")\n",
        "    break\n",
        "\n",
        "  message_history.append({\"role\": \"user\", \"content\": user_input})\n",
        "\n",
        "  chat_response = openai.chat.completions.create(\n",
        "  model=\"gpt-3.5-turbo-16k\",\n",
        "  messages = message_history).choices[0].message.content\n",
        "\n",
        "  print(\"\\n\", \"AI Tutor:\")\n",
        "  print(chat_response)\n",
        "  print(\"\\n\")\n",
        "\n",
        "  message_history.append({\"role\": \"assistant\", \"content\": chat_response})   # add API response to message history because it is a continuous conversation\n",
        "  conversation_length = conversation_length + 1 # another conversation done"
      ],
      "metadata": {
        "id": "uSWRwZ9yMu6-",
        "colab": {
          "base_uri": "https://localhost:8080/"
        },
        "outputId": "5f3c70f4-e3d0-4c0a-b769-e9f448189bd1"
      },
      "execution_count": null,
      "outputs": [
        {
          "output_type": "stream",
          "name": "stdout",
          "text": [
            "4x - 12 = 4\n",
            "\n",
            " AI Tutor:\n",
            "To solve the equation 4x - 12 = 4, we need to isolate the variable x. \n",
            "\n",
            "What is the first step you can take to isolate x?\n",
            "\n",
            "\n",
            "Move 12 to the right ?\n",
            "\n",
            " AI Tutor:\n",
            "Yes, that's correct! When we move 12 to the right side of the equation, we need to change its sign. \n",
            "\n",
            "What is the resulting equation after moving 12 to the right?\n",
            "\n",
            "\n",
            "4x = 4 - 12\n",
            "\n",
            " AI Tutor:\n",
            "Good start! However, there seems to be a mistake with the calculation on the right side of the equation. Can you try calculating 4 - 12 again and tell me the result?\n",
            "\n",
            "\n",
            "4x = 4 +12\n",
            "\n",
            " AI Tutor:\n",
            "Almost there! When you moved the -12 to the right side, you should have changed its sign to +12. Now, can you perform the addition correctly and tell me what the right side simplifies to?\n",
            "\n",
            "\n",
            "4x = 16\n",
            "\n",
            " AI Tutor:\n",
            "Great work! Now that we have 4x = 16, we can move on to the next step. \n",
            "\n",
            "To solve for x, what should we do next?\n",
            "\n",
            "\n",
            "Divide 16 by 4 ?\n",
            "\n",
            " AI Tutor:\n",
            "Absolutely! When we divide both sides of the equation by 4, we can determine the value of x. Could you perform the division and tell me what x equals?\n",
            "\n",
            "\n",
            "x = 3\n",
            "\n",
            " AI Tutor:\n",
            "Oops! It seems there was a slight error in your calculation. When you divide 16 by 4, you should get a different value for x. Could you try the division again and let me know what x equals?\n",
            "\n",
            "\n",
            "4\n",
            "\n",
            " AI Tutor:\n",
            "Great job! You got it right this time. \n",
            "\n",
            "So the solution to the equation 4x - 12 = 4 is x = 4. \n",
            "\n",
            "Is there anything else I can assist you with?\n",
            "\n",
            "\n",
            "no, thank you!\n",
            "\n",
            " AI Tutor:\n",
            "You're welcome! If you have any more questions in the future, feel free to ask. Have a great day!\n",
            "\n",
            "\n",
            "ok\n",
            "\n",
            " AI Tutor:\n",
            "Goodbye! Take care!\n",
            "\n",
            "\n",
            "bye\n",
            "\n",
            " AI Tutor:\n",
            "Goodbye!\n",
            "\n",
            "\n",
            "bye\n",
            "\n",
            " AI Tutor:\n",
            "Goodbye! Have a great day!\n",
            "\n",
            "\n",
            "bye\n",
            "\n",
            " AI Tutor:\n",
            "Goodbye! Take care and have a wonderful day!\n",
            "\n",
            "\n",
            "bye\n",
            "\n",
            " AI Tutor:\n",
            "Goodbye! Don't hesitate to return if you need any further assistance. Have a great day!\n",
            "\n",
            "\n",
            "ok\n",
            "\n",
            " AI Tutor:\n",
            "Alright, have a great day!\n",
            "\n",
            "\n",
            "ok\n",
            "\n",
            " AI Tutor:\n",
            "Alright then, have a great day!\n",
            "\n",
            "\n",
            "exit\n",
            "AI Tutor: Exiting the program!\n"
          ]
        }
      ]
    },
    {
      "cell_type": "code",
      "source": [
        "# To keep a tab on number of tokens used\n",
        "\n",
        "def chat_response_with_num_tokens(messages):\n",
        "\n",
        "    chat_response = openai.chat.completions.create(\n",
        "    model=\"gpt-3.5-turbo-16k\",\n",
        "    messages=messages\n",
        "    )\n",
        "\n",
        "    content = chat_response.choices[0].message.content\n",
        "\n",
        "    token_count = {\n",
        "    'prompt_tokens':chat_response.usage.prompt_tokens,          # INPUT TOKENS USED\n",
        "    'completion_tokens':chat_response.usage.completion_tokens,  # OUTPUT TOKENS USED\n",
        "    'total_tokens':chat_response.usage.total_tokens,            # TOTAL TOKENS USED\n",
        "    }\n",
        "\n",
        "    return content, token_count"
      ],
      "metadata": {
        "id": "DqHc3HYkMyFg"
      },
      "execution_count": null,
      "outputs": []
    },
    {
      "cell_type": "code",
      "source": [
        "# To check above function\n",
        "messages=[\n",
        "        {\"role\": \"system\", \"content\": \"You are an AI tutor that assists school students with math homework problems.\"},\n",
        "        {\"role\": \"user\", \"content\": \"Help me solve the equation 3x - 9 = 21.\"},\n",
        "        {\"role\": \"assistant\", \"content\": \"Try moving the 9 to the right hand side of the equation. What do you get?\"},\n",
        "        {\"role\": \"user\", \"content\": \"3x = 12\"}\n",
        "      ]\n",
        "\n",
        "chat_response_with_num_tokens(messages)"
      ],
      "metadata": {
        "id": "cDHbSawJMzsV",
        "colab": {
          "base_uri": "https://localhost:8080/"
        },
        "outputId": "1d07ba26-cda0-4049-9a1b-040c14c88dc3"
      },
      "execution_count": null,
      "outputs": [
        {
          "output_type": "execute_result",
          "data": {
            "text/plain": [
              "(\"That's correct! Now, to solve for x, you need to divide both sides of the equation by 3. What is x equal to?\",\n",
              " {'prompt_tokens': 72, 'completion_tokens': 30, 'total_tokens': 102})"
            ]
          },
          "metadata": {},
          "execution_count": 47
        }
      ]
    },
    {
      "cell_type": "code",
      "source": [
        "# AI tutor mini program with cost calculation\n",
        "# Enter \"exit\" to terminate the program\n",
        "\n",
        "# One user message + one assistant message is one converation\n",
        "max_conversations = 20\n",
        "conversation_length = 0 # initialize\n",
        "\n",
        "#Let's also keep a track of tokens this time. Initialise an empty dictionary to count tokens\n",
        "token_count = {'prompt_tokens':0,\n",
        "               'completion_tokens':0,\n",
        "               'total_tokens':0,\n",
        "              }\n",
        "\n",
        "# initialize system message, user and assistant examples\n",
        "message_history = [\n",
        "        {\"role\": \"system\", \"content\": system_message},\n",
        "        {\"role\": \"system\", \"name\":\"example_user\", \"content\": \"Help me solve the equation 3x - 9 = 21.\"},\n",
        "        {\"role\": \"system\", \"name\":\"example_assistant\", \"content\": \"Sure! Try moving the 9 to the right hand side of the equation. What do you get?\"},\n",
        "        {\"role\": \"system\", \"name\":\"example_user\", \"content\": \"3x = 12\"},\n",
        "        {\"role\": \"system\", \"name\":\"example_assistant\", \"content\": \"Well, there seems to be a mistake. When you move 9 to the right hand side, you need to change its sign. Can you try again?\"},\n",
        "        {\"role\": \"system\", \"name\":\"example_user\", \"content\": \"3x = 30\"},\n",
        "        {\"role\": \"system\", \"name\":\"example_assistant\", \"content\": \"That looks good, great job! Now, try to divide both sides by 3. What do you get?\"},\n",
        "        {\"role\": \"system\", \"name\":\"example_user\", \"content\": \"x = 10\"}]\n",
        "\n",
        "while conversation_length < max_conversations:\n",
        "  user_input = input()\n",
        "\n",
        "  # exit if user enters exit\n",
        "  if \"exit\" in user_input.lower():\n",
        "    print(\"AI Tutor: Exiting the program!\")\n",
        "    break\n",
        "\n",
        "  message_history.append({\"role\": \"user\", \"content\": user_input})\n",
        "\n",
        "  chat_response = openai.chat.completions.create(\n",
        "  model=\"gpt-3.5-turbo-16k\",\n",
        "  messages = message_history)\n",
        "\n",
        "  response = chat_response.choices[0].message.content\n",
        "\n",
        "  token_count['prompt_tokens'] += chat_response.usage.prompt_tokens\n",
        "  token_count['completion_tokens'] += chat_response.usage.completion_tokens\n",
        "  token_count['total_tokens'] += chat_response.usage.total_tokens\n",
        "\n",
        "  print(\"\\n\", \"AI Tutor:\")\n",
        "  print(response)\n",
        "  print(\"\\n\")\n",
        "\n",
        "  message_history.append({\"role\": \"assistant\", \"content\": response}) # add API response to message history\n",
        "  conversation_length = conversation_length + 1 # another conversation done\n",
        "\n",
        "print(token_count)"
      ],
      "metadata": {
        "id": "pFi2Cq7WM2TI",
        "colab": {
          "base_uri": "https://localhost:8080/"
        },
        "outputId": "d72d9f3c-56f8-4b7a-cc66-0f9a1c5086c3"
      },
      "execution_count": null,
      "outputs": [
        {
          "output_type": "stream",
          "name": "stdout",
          "text": [
            "4x - 12 = 4\n",
            "\n",
            " AI Tutor:\n",
            "To solve this equation, let's first isolate the variable term by moving the constant term to the other side of the equation. What do you get when you move -12 to the right side of the equation?\n",
            "\n",
            "\n",
            "Move 12 to the right\n",
            "\n",
            " AI Tutor:\n",
            "Almost there! Don't forget to change the sign of -12 when you move it to the right side. What do you get?\n",
            "\n",
            "\n",
            "4x = 4 -12\n",
            "\n",
            " AI Tutor:\n",
            "Great! You moved -12 to the right side correctly. Now, simplify the right side of the equation by performing the subtraction. What do you get?\n",
            "\n",
            "\n",
            "4x = -8\n",
            "\n",
            " AI Tutor:\n",
            "Perfect! You correctly simplified the equation. Now, in order to solve for x, divide both sides of the equation by 4. What do you get?\n",
            "\n",
            "\n",
            "x = -2\n",
            "\n",
            " AI Tutor:\n",
            "Awesome job! You solved the equation correctly. The value of x is indeed -2. Well done!\n",
            "\n",
            "\n",
            "exit\n",
            "AI Tutor: Exiting the program!\n",
            "{'prompt_tokens': 1717, 'completion_tokens': 153, 'total_tokens': 1870}\n"
          ]
        }
      ]
    },
    {
      "cell_type": "code",
      "source": [],
      "metadata": {
        "id": "ypiVZ0b_XWiI"
      },
      "execution_count": null,
      "outputs": []
    }
  ]
}